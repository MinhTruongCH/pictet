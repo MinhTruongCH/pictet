{
 "cells": [
  {
   "cell_type": "code",
   "execution_count": 0,
   "metadata": {
    "application/vnd.databricks.v1+cell": {
     "cellMetadata": {
      "byteLimit": 2048000,
      "implicitDf": true,
      "rowLimit": 10000
     },
     "inputWidgets": {},
     "nuid": "b56c530b-a666-46bd-ba66-b66b1174ea04",
     "showTitle": false,
     "tableResultSettingsMap": {},
     "title": ""
    }
   },
   "outputs": [],
   "source": [
    "%sql\n",
    "CREATE OR REFRESH STREAMING LIVE TABLE bronze_fix_messages\n",
    "COMMENT \"The raw fix messages, ingested from a S3 bucket or else.\"\n",
    "AS SELECT * FROM cloud_files(\"dbfs:/Volumes/workspace/dev/trading/fix_messages\", \"text\",\n",
    "                             map(\"cloudFiles.inferColumnTypes\", \"true\"))"
   ]
  },
  {
   "cell_type": "code",
   "execution_count": 0,
   "metadata": {
    "application/vnd.databricks.v1+cell": {
     "cellMetadata": {},
     "inputWidgets": {},
     "nuid": "75a12c7d-6fac-49ec-94d0-f5c8d93ab6e3",
     "showTitle": false,
     "tableResultSettingsMap": {},
     "title": ""
    }
   },
   "outputs": [],
   "source": [
    "%sql\n",
    "CREATE OR REFRESH STREAMING LIVE TABLE silver_fix_messages\n",
    "CONSTRAINT valid_sender EXPECT (SenderCompID IS NOT NULL)\n",
    "COMMENT \"Parsed FIX messages from the bronze layer with constraint on SenderCompID\"\n",
    "AS\n",
    "SELECT\n",
    "  value,\n",
    "  regexp_extract(value, '8=([^|]+)', 1) AS BeginString,\n",
    "  regexp_extract(value, '35=([^|]+)', 1) AS MsgType,\n",
    "  regexp_extract(value, '49=([^|]+)', 1) AS SenderCompID,\n",
    "  regexp_extract(value, '56=([^|]+)', 1) AS TargetCompID,\n",
    "  regexp_extract(value, '34=([^|]+)', 1) AS MsgSeqNum,\n",
    "  regexp_extract(value, '52=([^|]+)', 1) AS SendingTime,\n",
    "  regexp_extract(value, '11=([^|]+)', 1) AS ClOrdID,\n",
    "  regexp_extract(value, '55=([^|]+)', 1) AS Symbol,\n",
    "  regexp_extract(value, '54=([^|]+)', 1) AS Side,\n",
    "  regexp_extract(value, '38=([^|]+)', 1) AS OrderQty,\n",
    "  regexp_extract(value, '44=([^|]+)', 1) AS Price,\n",
    "  regexp_extract(value, '10=([^|]+)', 1) AS CheckSum\n",
    "FROM live.bronze_fix_messages\n",
    "WHERE value LIKE '8=%'\n"
   ]
  },
  {
   "cell_type": "code",
   "execution_count": 0,
   "metadata": {
    "application/vnd.databricks.v1+cell": {
     "cellMetadata": {},
     "inputWidgets": {},
     "nuid": "9e0d1b4c-2f5d-4028-8e69-76923dca52b0",
     "showTitle": false,
     "tableResultSettingsMap": {},
     "title": ""
    }
   },
   "outputs": [],
   "source": [
    "%sql\n",
    "CREATE OR REFRESH STREAMING LIVE TABLE gold_fix_messages\n",
    "COMMENT \"Cleaned and enriched FIX messages with typed columns and labels\"\n",
    "AS\n",
    "SELECT DISTINCT\n",
    "  *,\n",
    "  CAST(OrderQty AS INT) AS OrderQty,\n",
    "  CAST(Price AS DOUBLE) AS Price,\n",
    "  CAST(SendingTime AS TIMESTAMP) AS SendingTime,\n",
    "  CAST(MsgSeqNum AS INT) AS MsgSeqNum,\n",
    "  CASE \n",
    "    WHEN Side = '1' THEN 'Buy'\n",
    "    WHEN Side = '2' THEN 'Sell'\n",
    "    ELSE 'Other'\n",
    "  END AS SideLabel\n",
    "FROM live.silver_fix_messages\n"
   ]
  }
 ],
 "metadata": {
  "application/vnd.databricks.v1+notebook": {
   "computePreferences": null,
   "dashboards": [],
   "environmentMetadata": {
    "base_environment": "",
    "environment_version": "2"
   },
   "inputWidgetPreferences": null,
   "language": "python",
   "notebookMetadata": {
    "mostRecentlyExecutedCommandWithImplicitDF": {
     "commandId": 4789063152029077,
     "dataframes": [
      "_sqldf"
     ]
    },
    "pythonIndentUnit": 4
   },
   "notebookName": "dlt",
   "widgets": {}
  },
  "language_info": {
   "name": "python"
  }
 },
 "nbformat": 4,
 "nbformat_minor": 0
}
