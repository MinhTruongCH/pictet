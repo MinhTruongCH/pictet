{
 "cells": [
  {
   "cell_type": "code",
   "execution_count": 0,
   "metadata": {
    "application/vnd.databricks.v1+cell": {
     "cellMetadata": {
      "byteLimit": 2048000,
      "rowLimit": 10000
     },
     "inputWidgets": {},
     "nuid": "a175c9ef-3837-4e6f-ad35-cf621a890b32",
     "showTitle": false,
     "tableResultSettingsMap": {},
     "title": ""
    }
   },
   "outputs": [],
   "source": [
    "from pyspark.sql.functions import col, split, explode, expr, monotonically_increasing_id"
   ]
  },
  {
   "cell_type": "code",
   "execution_count": 0,
   "metadata": {
    "application/vnd.databricks.v1+cell": {
     "cellMetadata": {
      "byteLimit": 2048000,
      "rowLimit": 10000
     },
     "inputWidgets": {},
     "nuid": "6be94888-9219-4440-9b1e-13f43398a08f",
     "showTitle": false,
     "tableResultSettingsMap": {},
     "title": ""
    }
   },
   "outputs": [],
   "source": [
    "spark.readStream \\\n",
    "    .format(\"cloudFiles\") \\\n",
    "    .option(\"cloudFiles.format\", \"text\") \\\n",
    "    .load(\"/Volumes/workspace/dev/trading/\") \\\n",
    ".writeStream \\\n",
    "    .format(\"delta\") \\\n",
    "    .option(\"checkpointLocation\", \"/Volumes/workspace/dev/trading/checkpoint/bronze\") \\\n",
    "    .trigger(availableNow=True) \\\n",
    "    .table(\"workspace.default.bronze_fix_messages\")"
   ]
  },
  {
   "cell_type": "code",
   "execution_count": 0,
   "metadata": {
    "application/vnd.databricks.v1+cell": {
     "cellMetadata": {
      "byteLimit": 2048000,
      "implicitDf": true,
      "rowLimit": 10000
     },
     "inputWidgets": {},
     "nuid": "d4a64d83-84f2-4f6a-9032-0fb87ef37aec",
     "showTitle": false,
     "tableResultSettingsMap": {},
     "title": ""
    }
   },
   "outputs": [],
   "source": [
    "%sql\n",
    "SELECT * FROM workspace.default.bronze_fix_messages"
   ]
  },
  {
   "cell_type": "code",
   "execution_count": 0,
   "metadata": {
    "application/vnd.databricks.v1+cell": {
     "cellMetadata": {
      "byteLimit": 2048000,
      "rowLimit": 10000
     },
     "inputWidgets": {},
     "nuid": "b0931cef-aabc-473c-b1c7-ff6336adfe83",
     "showTitle": false,
     "tableResultSettingsMap": {},
     "title": ""
    }
   },
   "outputs": [],
   "source": [
    "# Read from the bronze table\n",
    "raw_df = (spark.readStream\n",
    "          .table(\"workspace.default.bronze_fix_messages\")\n",
    "          .filter(col(\"value\").startswith(\"8=\")))\n",
    "\n",
    "# Split the value column into multiple columns\n",
    "parsed_df = raw_df.withColumn(\"BeginString\", expr(\"split(value, '\\\\|')[0]\"))\n",
    "parsed_df = parsed_df.withColumn(\"MsgType\", expr(\"split(value, '\\\\|')[1]\"))\n",
    "parsed_df = parsed_df.withColumn(\"SenderCompID\", expr(\"split(value, '\\\\|')[2]\"))\n",
    "parsed_df = parsed_df.withColumn(\"TargetCompID\", expr(\"split(value, '\\\\|')[3]\"))\n",
    "parsed_df = parsed_df.withColumn(\"MsgSeqNum\", expr(\"split(value, '\\\\|')[4]\"))\n",
    "parsed_df = parsed_df.withColumn(\"SendingTime\", expr(\"split(value, '\\\\|')[5]\"))\n",
    "parsed_df = parsed_df.withColumn(\"ClOrdID\", expr(\"split(value, '\\\\|')[6]\"))\n",
    "parsed_df = parsed_df.withColumn(\"Symbol\", expr(\"split(value, '\\\\|')[7]\"))\n",
    "parsed_df = parsed_df.withColumn(\"Side\", expr(\"split(value, '\\\\|')[8]\"))\n",
    "parsed_df = parsed_df.withColumn(\"OrderQty\", expr(\"split(value, '\\\\|')[9]\"))\n",
    "parsed_df = parsed_df.withColumn(\"Price\", expr(\"split(value, '\\\\|')[10]\"))\n",
    "parsed_df = parsed_df.withColumn(\"CheckSum\", expr(\"split(value, '\\\\|')[11]\"))\n",
    "\n",
    "# Write to the silver table\n",
    "(parsed_df.writeStream\n",
    " .format(\"delta\")\n",
    " .option(\"checkpointLocation\", \"/Volumes/workspace/dev/trading/checkpoint/silver\")\n",
    " .option(\"mergeSchema\", \"true\")\n",
    " .trigger(availableNow=True)\n",
    " .table(\"workspace.default.silver_fix_messages\"))"
   ]
  },
  {
   "cell_type": "code",
   "execution_count": 0,
   "metadata": {
    "application/vnd.databricks.v1+cell": {
     "cellMetadata": {
      "byteLimit": 2048000,
      "implicitDf": true,
      "rowLimit": 10000
     },
     "inputWidgets": {},
     "nuid": "ca2a28be-c6dc-47e4-a08e-0ca1253cefed",
     "showTitle": false,
     "tableResultSettingsMap": {},
     "title": ""
    }
   },
   "outputs": [],
   "source": [
    "%sql\n",
    "SELECT * FROM workspace.default.silver_fix_messages"
   ]
  }
 ],
 "metadata": {
  "application/vnd.databricks.v1+notebook": {
   "computePreferences": null,
   "dashboards": [],
   "environmentMetadata": {
    "base_environment": "",
    "environment_version": "2"
   },
   "inputWidgetPreferences": null,
   "language": "python",
   "notebookMetadata": {
    "mostRecentlyExecutedCommandWithImplicitDF": {
     "commandId": 5902762991439252,
     "dataframes": [
      "_sqldf"
     ]
    },
    "pythonIndentUnit": 4
   },
   "notebookName": "Processing",
   "widgets": {}
  },
  "language_info": {
   "name": "python"
  }
 },
 "nbformat": 4,
 "nbformat_minor": 0
}
