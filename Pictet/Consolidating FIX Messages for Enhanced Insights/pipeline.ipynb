{
 "cells": [
  {
   "cell_type": "markdown",
   "metadata": {
    "application/vnd.databricks.v1+cell": {
     "cellMetadata": {
      "byteLimit": 2048000,
      "rowLimit": 10000
     },
     "inputWidgets": {},
     "nuid": "c5b860ac-263a-4d4b-8f3e-1274f08394df",
     "showTitle": false,
     "tableResultSettingsMap": {},
     "title": ""
    }
   },
   "source": [
    "# Imports"
   ]
  },
  {
   "cell_type": "code",
   "execution_count": 0,
   "metadata": {
    "application/vnd.databricks.v1+cell": {
     "cellMetadata": {
      "byteLimit": 2048000,
      "rowLimit": 10000
     },
     "inputWidgets": {},
     "nuid": "a175c9ef-3837-4e6f-ad35-cf621a890b32",
     "showTitle": false,
     "tableResultSettingsMap": {},
     "title": ""
    }
   },
   "outputs": [],
   "source": [
    "from pyspark.sql.functions import col, split, explode, expr, monotonically_increasing_id"
   ]
  },
  {
   "cell_type": "markdown",
   "metadata": {
    "application/vnd.databricks.v1+cell": {
     "cellMetadata": {
      "byteLimit": 2048000,
      "rowLimit": 10000
     },
     "inputWidgets": {},
     "nuid": "0f1cded7-d490-40ec-98e8-a012f768ed37",
     "showTitle": false,
     "tableResultSettingsMap": {},
     "title": ""
    }
   },
   "source": [
    "# Generate bronze table"
   ]
  },
  {
   "cell_type": "code",
   "execution_count": 0,
   "metadata": {
    "application/vnd.databricks.v1+cell": {
     "cellMetadata": {
      "byteLimit": 2048000,
      "rowLimit": 10000
     },
     "inputWidgets": {},
     "nuid": "6be94888-9219-4440-9b1e-13f43398a08f",
     "showTitle": false,
     "tableResultSettingsMap": {},
     "title": ""
    }
   },
   "outputs": [],
   "source": [
    "spark.readStream \\\n",
    "    .format(\"cloudFiles\") \\\n",
    "    .option(\"cloudFiles.format\", \"text\") \\\n",
    "    .load(\"/Volumes/workspace/dev/trading/\") \\\n",
    ".writeStream \\\n",
    "    .format(\"delta\") \\\n",
    "    .option(\"checkpointLocation\", \"/Volumes/workspace/dev/trading/checkpoint/bronze\") \\\n",
    "    .trigger(availableNow=True) \\\n",
    "    .table(\"workspace.default.bronze_fix_messages\")"
   ]
  },
  {
   "cell_type": "code",
   "execution_count": 0,
   "metadata": {
    "application/vnd.databricks.v1+cell": {
     "cellMetadata": {
      "byteLimit": 2048000,
      "implicitDf": true,
      "rowLimit": 10000
     },
     "inputWidgets": {},
     "nuid": "d4a64d83-84f2-4f6a-9032-0fb87ef37aec",
     "showTitle": false,
     "tableResultSettingsMap": {},
     "title": ""
    }
   },
   "outputs": [],
   "source": [
    "%sql\n",
    "SELECT * FROM workspace.default.bronze_fix_messages"
   ]
  },
  {
   "cell_type": "markdown",
   "metadata": {
    "application/vnd.databricks.v1+cell": {
     "cellMetadata": {
      "byteLimit": 2048000,
      "rowLimit": 10000
     },
     "inputWidgets": {},
     "nuid": "3134001d-4ceb-45da-9340-6bc6317b9bc2",
     "showTitle": false,
     "tableResultSettingsMap": {},
     "title": ""
    }
   },
   "source": [
    "# Generate silver table"
   ]
  },
  {
   "cell_type": "code",
   "execution_count": 0,
   "metadata": {
    "application/vnd.databricks.v1+cell": {
     "cellMetadata": {
      "byteLimit": 2048000,
      "rowLimit": 10000
     },
     "inputWidgets": {},
     "nuid": "b0931cef-aabc-473c-b1c7-ff6336adfe83",
     "showTitle": false,
     "tableResultSettingsMap": {},
     "title": ""
    }
   },
   "outputs": [],
   "source": [
    "# Read from the bronze table\n",
    "raw_df = (spark.readStream\n",
    "          .table(\"workspace.default.bronze_fix_messages\")\n",
    "          .filter(col(\"value\").startswith(\"8=\")))\n",
    "\n",
    "# Dictionnaire des tags à extraire\n",
    "tags = {\n",
    "    \"BeginString\": \"8\",\n",
    "    \"MsgType\": \"35\",\n",
    "    \"SenderCompID\": \"49\",\n",
    "    \"TargetCompID\": \"56\",\n",
    "    \"MsgSeqNum\": \"34\",\n",
    "    \"SendingTime\": \"52\",\n",
    "    \"ClOrdID\": \"11\",\n",
    "    \"Symbol\": \"55\",\n",
    "    \"Side\": \"54\",\n",
    "    \"OrderQty\": \"38\",\n",
    "    \"Price\": \"44\",\n",
    "    \"CheckSum\": \"10\"\n",
    "}\n",
    "\n",
    "# Créer une colonne temporaire en tableau clé-valeur\n",
    "kv_df = raw_df.withColumn(\"fields\", split(col(\"value\"), \"\\\\|\"))\n",
    "\n",
    "# Pour chaque tag, extraire la valeur associée\n",
    "for col_name, tag in tags.items():\n",
    "    kv_df = kv_df.withColumn(\n",
    "        col_name,\n",
    "        expr(f\"\"\"\n",
    "            filter(fields, x -> x like '{tag}=%')[0]\n",
    "        \"\"\")\n",
    "    ).withColumn(\n",
    "        col_name,\n",
    "        expr(f\"split({col_name}, '=')[1]\")\n",
    "    )\n",
    "\n",
    "parsed_df = kv_df.select(\"value\", *tags.keys())\n",
    "\n",
    "def upsert_to_silver(microBatchDF, batchId):\n",
    "    # Enlever les doublons dans le micro-batch\n",
    "    dedup_df = microBatchDF.dropDuplicates([\"ClOrdID\", \"SendingTime\", \"SenderCompID\"])\n",
    "\n",
    "    # Enregistrer le micro-batch comme une vue temporaire SQL\n",
    "    dedup_df.createOrReplaceTempView(\"updates\")\n",
    "\n",
    "    # Effectuer un MERGE (upsert)\n",
    "    spark.sql(\"\"\"\n",
    "        MERGE INTO workspace.default.silver_fix_messages AS target\n",
    "        USING updates AS source\n",
    "        ON target.ClOrdID = source.ClOrdID\n",
    "           AND target.SendingTime = source.SendingTime\n",
    "           AND target.SenderCompID = source.SenderCompID\n",
    "        WHEN MATCHED THEN UPDATE SET *\n",
    "        WHEN NOT MATCHED THEN INSERT *\n",
    "    \"\"\")\n",
    "\n",
    "# Démarrer le stream avec foreachBatch\n",
    "(parsed_df.writeStream\n",
    "    .foreachBatch(upsert_to_silver)\n",
    "    .option(\"checkpointLocation\", \"/Volumes/workspace/dev/trading/checkpoint/silver_merge\")\n",
    "    .trigger(availableNow=True)\n",
    "    .start())\n"
   ]
  },
  {
   "cell_type": "code",
   "execution_count": 0,
   "metadata": {
    "application/vnd.databricks.v1+cell": {
     "cellMetadata": {
      "byteLimit": 2048000,
      "implicitDf": true,
      "rowLimit": 10000
     },
     "inputWidgets": {},
     "nuid": "ca2a28be-c6dc-47e4-a08e-0ca1253cefed",
     "showTitle": false,
     "tableResultSettingsMap": {},
     "title": ""
    }
   },
   "outputs": [],
   "source": [
    "%sql\n",
    "SELECT * FROM workspace.default.silver_fix_messages"
   ]
  },
  {
   "cell_type": "code",
   "execution_count": 0,
   "metadata": {
    "application/vnd.databricks.v1+cell": {
     "cellMetadata": {
      "byteLimit": 2048000,
      "rowLimit": 10000
     },
     "inputWidgets": {},
     "nuid": "3d66782e-bf5f-482f-97c0-fdcd29d34c85",
     "showTitle": false,
     "tableResultSettingsMap": {},
     "title": ""
    }
   },
   "outputs": [],
   "source": []
  }
 ],
 "metadata": {
  "application/vnd.databricks.v1+notebook": {
   "computePreferences": null,
   "dashboards": [],
   "environmentMetadata": {
    "base_environment": "",
    "environment_version": "2"
   },
   "inputWidgetPreferences": null,
   "language": "python",
   "notebookMetadata": {
    "mostRecentlyExecutedCommandWithImplicitDF": {
     "commandId": 6097853955426580,
     "dataframes": [
      "_sqldf"
     ]
    },
    "pythonIndentUnit": 4
   },
   "notebookName": "pipeline",
   "widgets": {}
  },
  "language_info": {
   "name": "python"
  }
 },
 "nbformat": 4,
 "nbformat_minor": 0
}
