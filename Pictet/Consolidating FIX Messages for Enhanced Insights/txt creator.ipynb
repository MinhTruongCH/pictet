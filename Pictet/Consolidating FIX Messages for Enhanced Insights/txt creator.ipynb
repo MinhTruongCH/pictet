{
 "cells": [
  {
   "cell_type": "code",
   "execution_count": 0,
   "metadata": {
    "application/vnd.databricks.v1+cell": {
     "cellMetadata": {
      "byteLimit": 2048000,
      "rowLimit": 10000
     },
     "inputWidgets": {},
     "nuid": "7d282593-e099-436b-b33c-37b5a45142fe",
     "showTitle": false,
     "tableResultSettingsMap": {},
     "title": ""
    }
   },
   "outputs": [],
   "source": [
    "import time, random\n",
    "from datetime import datetime\n",
    "symbols = [\"AAPL\", \"MSFT\", \"TSLA\"]\n",
    "sides = [\"1\", \"2\"]  # 1=Buy, 2=Sell\n",
    "\n",
    "for i in range(100):\n",
    "    msg = f\"8=FIX.4.2|35=D|49=TRD{random.randint(1,3)}|56=PICTET|34={i}|52={datetime.utcnow()}|11={random.randint(10000,99999)}|55={random.choice(symbols)}|54={random.choice(sides)}|38={random.randint(1,100)}|44={round(random.uniform(100, 1000), 2)}|10=123\"\n",
    "    filename = f\"/Volumes/workspace/dev/trading/fix_messages/fix_{i}.txt\"\n",
    "    dbutils.fs.put(filename, msg)\n",
    "    time.sleep(1)\n"
   ]
  },
  {
   "cell_type": "code",
   "execution_count": 0,
   "metadata": {
    "application/vnd.databricks.v1+cell": {
     "cellMetadata": {
      "byteLimit": 2048000,
      "rowLimit": 10000
     },
     "inputWidgets": {},
     "nuid": "a765594a-e045-4d2a-a5c3-d684198944d7",
     "showTitle": false,
     "tableResultSettingsMap": {},
     "title": ""
    }
   },
   "outputs": [],
   "source": [
    "files = dbutils.fs.ls(\"/Volumes/workspace/dev/trading/fix_messages/\")\n",
    "display(files)"
   ]
  },
  {
   "cell_type": "code",
   "execution_count": 0,
   "metadata": {
    "application/vnd.databricks.v1+cell": {
     "cellMetadata": {
      "byteLimit": 2048000,
      "rowLimit": 10000
     },
     "inputWidgets": {},
     "nuid": "77e5fd68-d67d-4ccf-a482-3ceb59344cd9",
     "showTitle": false,
     "tableResultSettingsMap": {},
     "title": ""
    }
   },
   "outputs": [],
   "source": [
    "df = (spark.readStream\n",
    "      .format(\"cloudFiles\")\n",
    "      .option(\"cloudFiles.format\", \"text\")\n",
    "      .load(\"/Volumes/workspace/dev/trading/\"))"
   ]
  }
 ],
 "metadata": {
  "application/vnd.databricks.v1+notebook": {
   "computePreferences": null,
   "dashboards": [],
   "environmentMetadata": {
    "base_environment": "",
    "environment_version": "2"
   },
   "inputWidgetPreferences": null,
   "language": "python",
   "notebookMetadata": {
    "pythonIndentUnit": 4
   },
   "notebookName": "txt creator",
   "widgets": {}
  },
  "language_info": {
   "name": "python"
  }
 },
 "nbformat": 4,
 "nbformat_minor": 0
}
